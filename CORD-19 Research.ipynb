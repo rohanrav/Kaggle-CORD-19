{
 "cells": [
  {
   "cell_type": "markdown",
   "metadata": {},
   "source": [
    "# Kaggle CORD-19 Challenge  \n",
    "\n",
    "Investigating various aspects of the COVID-19 virus using various research papers from across the globe.\n",
    "\n",
    "Author: Rohan Ravindran "
   ]
  },
  {
   "cell_type": "code",
   "execution_count": 443,
   "metadata": {},
   "outputs": [
    {
     "name": "stderr",
     "output_type": "stream",
     "text": [
      "100%|██████████| 1934/1934 [00:05<00:00, 371.48it/s]\n",
      "100%|██████████| 2466/2466 [00:08<00:00, 297.76it/s]\n"
     ]
    },
    {
     "data": {
      "text/html": [
       "<div>\n",
       "<style scoped>\n",
       "    .dataframe tbody tr th:only-of-type {\n",
       "        vertical-align: middle;\n",
       "    }\n",
       "\n",
       "    .dataframe tbody tr th {\n",
       "        vertical-align: top;\n",
       "    }\n",
       "\n",
       "    .dataframe thead th {\n",
       "        text-align: right;\n",
       "    }\n",
       "</style>\n",
       "<table border=\"1\" class=\"dataframe\">\n",
       "  <thead>\n",
       "    <tr style=\"text-align: right;\">\n",
       "      <th></th>\n",
       "      <th>title</th>\n",
       "      <th>abstract</th>\n",
       "      <th>text</th>\n",
       "    </tr>\n",
       "  </thead>\n",
       "  <tbody>\n",
       "    <tr>\n",
       "      <th>0</th>\n",
       "      <td>Relationship between Average Daily Temperature...</td>\n",
       "      <td>The rapid outbreak of the new Coronavirus pand...</td>\n",
       "      <td>The outbreak of infectious diseases has always...</td>\n",
       "    </tr>\n",
       "    <tr>\n",
       "      <th>1</th>\n",
       "      <td>Multimerization of HIV-1 integrase hinges on c...</td>\n",
       "      <td>New anti-AIDS treatments must be continually d...</td>\n",
       "      <td>In the absence of a curative treatment, the hi...</td>\n",
       "    </tr>\n",
       "    <tr>\n",
       "      <th>2</th>\n",
       "      <td>Virus shedding patterns in nasopharyngeal and ...</td>\n",
       "      <td></td>\n",
       "      <td>the author/funder, who has granted medRxiv a l...</td>\n",
       "    </tr>\n",
       "    <tr>\n",
       "      <th>3</th>\n",
       "      <td>Time-varying transmission dynamics of Novel Co...</td>\n",
       "      <td>Rationale: Several studies have estimated basi...</td>\n",
       "      <td>Eighteen years ago, severe acute respiratory s...</td>\n",
       "    </tr>\n",
       "    <tr>\n",
       "      <th>4</th>\n",
       "      <td>p53 is not necessary for DUX4 pathology</td>\n",
       "      <td>Summary Statement: DUX4 is thought to mediate ...</td>\n",
       "      <td>Facioscapulohumeral muscular dystrophy (FSHD) ...</td>\n",
       "    </tr>\n",
       "  </tbody>\n",
       "</table>\n",
       "</div>"
      ],
      "text/plain": [
       "                                               title  \\\n",
       "0  Relationship between Average Daily Temperature...   \n",
       "1  Multimerization of HIV-1 integrase hinges on c...   \n",
       "2  Virus shedding patterns in nasopharyngeal and ...   \n",
       "3  Time-varying transmission dynamics of Novel Co...   \n",
       "4            p53 is not necessary for DUX4 pathology   \n",
       "\n",
       "                                            abstract  \\\n",
       "0  The rapid outbreak of the new Coronavirus pand...   \n",
       "1  New anti-AIDS treatments must be continually d...   \n",
       "2                                                      \n",
       "3  Rationale: Several studies have estimated basi...   \n",
       "4  Summary Statement: DUX4 is thought to mediate ...   \n",
       "\n",
       "                                                text  \n",
       "0  The outbreak of infectious diseases has always...  \n",
       "1  In the absence of a curative treatment, the hi...  \n",
       "2  the author/funder, who has granted medRxiv a l...  \n",
       "3  Eighteen years ago, severe acute respiratory s...  \n",
       "4  Facioscapulohumeral muscular dystrophy (FSHD) ...  "
      ]
     },
     "execution_count": 443,
     "metadata": {},
     "output_type": "execute_result"
    }
   ],
   "source": [
    "import os\n",
    "import json\n",
    "import pandas as pd\n",
    "from tqdm import tqdm\n",
    "\n",
    "file_names = ['biorxiv_medrxiv', 'comm_use_subset', 'noncomm_use_subset']\n",
    "\n",
    "data = []\n",
    "for d in file_names:\n",
    "    for file in tqdm(os.listdir('CORD-19-research-challenge/{}/{}/pdf_json'.format(d,d))):        \n",
    "        file_path = 'CORD-19-research-challenge/{}/{}/pdf_json/{}'.format(d,d, file)\n",
    "        json_file = json.load(open(file_path, 'rb'))\n",
    "\n",
    "        title = json_file['metadata']['title']\n",
    "        \n",
    "        try:\n",
    "            abstract = json_file['abstract'][0]['text']\n",
    "        except:\n",
    "            abstract = \"\"\n",
    "       \n",
    "        full_text = \"\"\n",
    "        \n",
    "        for t in json_file['body_text']:\n",
    "            text = t['text'] + '\\n\\n'\n",
    "            full_text += text\n",
    "            \n",
    "        data.append([title, abstract, full_text])\n",
    "            \n",
    "        \n",
    "\n",
    "df = pd.DataFrame(data, columns=['title', 'abstract', 'text'])\n",
    "df.head()"
   ]
  },
  {
   "cell_type": "markdown",
   "metadata": {},
   "source": [
    "# Investigating how COVID-19 survives on different surfaces"
   ]
  },
  {
   "cell_type": "code",
   "execution_count": 436,
   "metadata": {},
   "outputs": [
    {
     "data": {
      "text/plain": [
       "4717"
      ]
     },
     "execution_count": 436,
     "metadata": {},
     "output_type": "execute_result"
    }
   ],
   "source": [
    "data = []\n",
    "\n",
    "for index, row in df.iterrows():\n",
    "    if row['text'].find('surface') > -1:\n",
    "        data.append(row)\n",
    "\n",
    "data = pd.DataFrame(data, columns=['title', 'abstract', 'text'])\n",
    "len(data)"
   ]
  },
  {
   "cell_type": "code",
   "execution_count": 437,
   "metadata": {},
   "outputs": [
    {
     "data": {
      "text/html": [
       "<div>\n",
       "<style scoped>\n",
       "    .dataframe tbody tr th:only-of-type {\n",
       "        vertical-align: middle;\n",
       "    }\n",
       "\n",
       "    .dataframe tbody tr th {\n",
       "        vertical-align: top;\n",
       "    }\n",
       "\n",
       "    .dataframe thead th {\n",
       "        text-align: right;\n",
       "    }\n",
       "</style>\n",
       "<table border=\"1\" class=\"dataframe\">\n",
       "  <thead>\n",
       "    <tr style=\"text-align: right;\">\n",
       "      <th></th>\n",
       "      <th>title</th>\n",
       "      <th>abstract</th>\n",
       "      <th>text</th>\n",
       "    </tr>\n",
       "  </thead>\n",
       "  <tbody>\n",
       "    <tr>\n",
       "      <th>0</th>\n",
       "      <td>Relationship between Average Daily Temperature...</td>\n",
       "      <td>The rapid outbreak of the new Coronavirus pand...</td>\n",
       "      <td>The outbreak of infectious diseases has always...</td>\n",
       "    </tr>\n",
       "    <tr>\n",
       "      <th>1</th>\n",
       "      <td>Multimerization of HIV-1 integrase hinges on c...</td>\n",
       "      <td>New anti-AIDS treatments must be continually d...</td>\n",
       "      <td>In the absence of a curative treatment, the hi...</td>\n",
       "    </tr>\n",
       "    <tr>\n",
       "      <th>23</th>\n",
       "      <td>A Multiscale and Comparative Model for Recepto...</td>\n",
       "      <td>The respiratory syndrome caused by a new type ...</td>\n",
       "      <td>The coronavirus disease 2019 has emerged at th...</td>\n",
       "    </tr>\n",
       "    <tr>\n",
       "      <th>24</th>\n",
       "      <td>The potential SARS-CoV-2 entry inhibitor</td>\n",
       "      <td>has rapidly spread to almost all parts of worl...</td>\n",
       "      <td>In December 2019, an outbreak of coronavirus d...</td>\n",
       "    </tr>\n",
       "    <tr>\n",
       "      <th>27</th>\n",
       "      <td>Analysis and Prediction of COVID-19 Patients' ...</td>\n",
       "      <td>Background: False negative results of SARS-CoV...</td>\n",
       "      <td>COVID-19, the disease caused by SARS-CoV-2 vir...</td>\n",
       "    </tr>\n",
       "  </tbody>\n",
       "</table>\n",
       "</div>"
      ],
      "text/plain": [
       "                                                title  \\\n",
       "0   Relationship between Average Daily Temperature...   \n",
       "1   Multimerization of HIV-1 integrase hinges on c...   \n",
       "23  A Multiscale and Comparative Model for Recepto...   \n",
       "24           The potential SARS-CoV-2 entry inhibitor   \n",
       "27  Analysis and Prediction of COVID-19 Patients' ...   \n",
       "\n",
       "                                             abstract  \\\n",
       "0   The rapid outbreak of the new Coronavirus pand...   \n",
       "1   New anti-AIDS treatments must be continually d...   \n",
       "23  The respiratory syndrome caused by a new type ...   \n",
       "24  has rapidly spread to almost all parts of worl...   \n",
       "27  Background: False negative results of SARS-CoV...   \n",
       "\n",
       "                                                 text  \n",
       "0   The outbreak of infectious diseases has always...  \n",
       "1   In the absence of a curative treatment, the hi...  \n",
       "23  The coronavirus disease 2019 has emerged at th...  \n",
       "24  In December 2019, an outbreak of coronavirus d...  \n",
       "27  COVID-19, the disease caused by SARS-CoV-2 vir...  "
      ]
     },
     "execution_count": 437,
     "metadata": {},
     "output_type": "execute_result"
    }
   ],
   "source": [
    "data.head()"
   ]
  },
  {
   "cell_type": "code",
   "execution_count": 438,
   "metadata": {},
   "outputs": [],
   "source": [
    "total = data['text'].values\n",
    "sentences = []\n",
    "\n",
    "for t in total:\n",
    "    for sent in t.split(\". \"):\n",
    "        if sent.find('plastic') > -1:\n",
    "            sentences.append(sent)"
   ]
  },
  {
   "cell_type": "code",
   "execution_count": 439,
   "metadata": {},
   "outputs": [],
   "source": [
    "int_sentences = []\n",
    "\n",
    "for sent in sentences:\n",
    "    sent = sent.lower()\n",
    "    if sent.find('survival') > -1 or sent.find('material') > -1 or sent.find('day') > -1 or sent.find('surface') > -1:\n",
    "        if sent.find('day') > -1 or sent.find('hour') > -1:\n",
    "            int_sentences.append(sent)"
   ]
  },
  {
   "cell_type": "code",
   "execution_count": 440,
   "metadata": {},
   "outputs": [
    {
     "name": "stdout",
     "output_type": "stream",
     "text": [
      "[9.0, 21.0, 4.0, 0.16666666666666666, 3.0, 0.125, 1.0, 5.0, 15.0, 20.0, 20.0, 20.0, 20.0, 5.0, 0.0, 10.0, 11.0, 11.0, 2.0, 5.0, 14.0, 14.0, 5.0, 14.0]\n"
     ]
    }
   ],
   "source": [
    "import re\n",
    "\n",
    "time_period = []\n",
    "\n",
    "for sent in int_sentences:\n",
    "    day = re.findall(r\" \\d{1,2} day\", sent)\n",
    "    hour = re.findall(r\" \\d{1,2} hour\", sent)\n",
    "    \n",
    "    if len(day) > 0:\n",
    "        for i in day:\n",
    "            time_period.append(float(i.split()[0]))\n",
    "    \n",
    "    if len(day) > 0:\n",
    "        for i in hour:\n",
    "            time_period.append(float(i.split()[0]) / 24)\n",
    "    \n",
    "print(time_period)"
   ]
  },
  {
   "cell_type": "code",
   "execution_count": 441,
   "metadata": {},
   "outputs": [
    {
     "data": {
      "image/png": "[encoded data removed]",
      "text/plain": [
       "<Figure size 1080x720 with 1 Axes>"
      ]
     },
     "metadata": {},
     "output_type": "display_data"
    }
   ],
   "source": [
    "import matplotlib.pyplot as plt\n",
    "from matplotlib import style\n",
    "import seaborn as sns\n",
    "\n",
    "%matplotlib inline\n",
    "\n",
    "style.use('ggplot')\n",
    "\n",
    "plt.figure(figsize=[15,10])\n",
    "plt.hist(time_period, bins=20)\n",
    "plt.xlabel('Survival time (days)')\n",
    "plt.title(\"Corona Virus Survival time on surfaces (Histogram)\")\n",
    "plt.show()"
   ]
  },
  {
   "cell_type": "code",
   "execution_count": 442,
   "metadata": {},
   "outputs": [
    {
     "name": "stdout",
     "output_type": "stream",
     "text": [
      "Survival time Mean:  9.553819444444445 days\n",
      "Survival time Median:  9.5 days\n"
     ]
    }
   ],
   "source": [
    "from statistics import mean, median\n",
    "\n",
    "print('Survival time Mean: ', mean(time_period), 'days')\n",
    "print('Survival time Median: ', median(time_period), 'days')"
   ]
  },
  {
   "cell_type": "markdown",
   "metadata": {},
   "source": [
    "## Findings\n",
    "- The survival of the COVID-19 virus varies when on different surfaces. On avergae, the virus can survive for 3-4 days on plastic and satinless steel surfaces, 1-2 days on cardboard, 3 hours in aerosol form, and 4 hours on copper.\n",
    "- The virus can survive longer on hard surfaces compared to more porous surfaces. \n",
    "- Heat does seem to have some affect on the life of COVID-19 on plastic surfaces."
   ]
  },
  {
   "cell_type": "markdown",
   "metadata": {},
   "source": [
    "# Investigating COVID-19 Incubation Period"
   ]
  },
  {
   "cell_type": "code",
   "execution_count": 444,
   "metadata": {},
   "outputs": [
    {
     "data": {
      "text/plain": [
       "1119"
      ]
     },
     "execution_count": 444,
     "metadata": {},
     "output_type": "execute_result"
    }
   ],
   "source": [
    "data = []\n",
    "\n",
    "for index, row in df.iterrows():\n",
    "    if row['text'].find('incubation') > -1:\n",
    "        data.append(row)\n",
    "\n",
    "data = pd.DataFrame(data, columns=['title', 'abstract', 'text'])\n",
    "len(data)"
   ]
  },
  {
   "cell_type": "code",
   "execution_count": 445,
   "metadata": {},
   "outputs": [
    {
     "data": {
      "text/html": [
       "<div>\n",
       "<style scoped>\n",
       "    .dataframe tbody tr th:only-of-type {\n",
       "        vertical-align: middle;\n",
       "    }\n",
       "\n",
       "    .dataframe tbody tr th {\n",
       "        vertical-align: top;\n",
       "    }\n",
       "\n",
       "    .dataframe thead th {\n",
       "        text-align: right;\n",
       "    }\n",
       "</style>\n",
       "<table border=\"1\" class=\"dataframe\">\n",
       "  <thead>\n",
       "    <tr style=\"text-align: right;\">\n",
       "      <th></th>\n",
       "      <th>title</th>\n",
       "      <th>abstract</th>\n",
       "      <th>text</th>\n",
       "    </tr>\n",
       "  </thead>\n",
       "  <tbody>\n",
       "    <tr>\n",
       "      <th>3</th>\n",
       "      <td>Time-varying transmission dynamics of Novel Co...</td>\n",
       "      <td>Rationale: Several studies have estimated basi...</td>\n",
       "      <td>Eighteen years ago, severe acute respiratory s...</td>\n",
       "    </tr>\n",
       "    <tr>\n",
       "      <th>6</th>\n",
       "      <td>Potential impact of seasonal forcing on a SARS...</td>\n",
       "      <td>A novel coronavirus (SARS-CoV-2) first detecte...</td>\n",
       "      <td>(2.2 with 90% high density interval 1.4-3.8 (R...</td>\n",
       "    </tr>\n",
       "    <tr>\n",
       "      <th>11</th>\n",
       "      <td>Monitoring Italian COVID-19 spread by an adapt...</td>\n",
       "      <td>Due to the recent diffusion of COVID-19 outbre...</td>\n",
       "      <td>The recent diffusion of the COVID-19 Corona-vi...</td>\n",
       "    </tr>\n",
       "    <tr>\n",
       "      <th>23</th>\n",
       "      <td>A Multiscale and Comparative Model for Recepto...</td>\n",
       "      <td>The respiratory syndrome caused by a new type ...</td>\n",
       "      <td>The coronavirus disease 2019 has emerged at th...</td>\n",
       "    </tr>\n",
       "    <tr>\n",
       "      <th>25</th>\n",
       "      <td>Development and validation of a rapid, single-...</td>\n",
       "      <td>19 Objectives: Development and validation of a...</td>\n",
       "      <td>Primers showing optimal in-silico features wer...</td>\n",
       "    </tr>\n",
       "  </tbody>\n",
       "</table>\n",
       "</div>"
      ],
      "text/plain": [
       "                                                title  \\\n",
       "3   Time-varying transmission dynamics of Novel Co...   \n",
       "6   Potential impact of seasonal forcing on a SARS...   \n",
       "11  Monitoring Italian COVID-19 spread by an adapt...   \n",
       "23  A Multiscale and Comparative Model for Recepto...   \n",
       "25  Development and validation of a rapid, single-...   \n",
       "\n",
       "                                             abstract  \\\n",
       "3   Rationale: Several studies have estimated basi...   \n",
       "6   A novel coronavirus (SARS-CoV-2) first detecte...   \n",
       "11  Due to the recent diffusion of COVID-19 outbre...   \n",
       "23  The respiratory syndrome caused by a new type ...   \n",
       "25  19 Objectives: Development and validation of a...   \n",
       "\n",
       "                                                 text  \n",
       "3   Eighteen years ago, severe acute respiratory s...  \n",
       "6   (2.2 with 90% high density interval 1.4-3.8 (R...  \n",
       "11  The recent diffusion of the COVID-19 Corona-vi...  \n",
       "23  The coronavirus disease 2019 has emerged at th...  \n",
       "25  Primers showing optimal in-silico features wer...  "
      ]
     },
     "execution_count": 445,
     "metadata": {},
     "output_type": "execute_result"
    }
   ],
   "source": [
    "data.head()"
   ]
  },
  {
   "cell_type": "code",
   "execution_count": 446,
   "metadata": {},
   "outputs": [],
   "source": [
    "total = data['text'].values"
   ]
  },
  {
   "cell_type": "code",
   "execution_count": 447,
   "metadata": {},
   "outputs": [],
   "source": [
    "sentences_all = []\n",
    "\n",
    "for t in total:\n",
    "    for sentence in t.split(\". \"):\n",
    "        if \"incubation\" in sentence.lower():\n",
    "            sentences_all.append(sentence.lower())"
   ]
  },
  {
   "cell_type": "code",
   "execution_count": 448,
   "metadata": {
    "collapsed": true
   },
   "outputs": [
    {
     "name": "stdout",
     "output_type": "stream",
     "text": [
      "[5.0, 5.0, 5.0, 12.5, 3.01, 5.0, 5.2, 13.0, 5.1, 14.0, 14.0, 7.0, 9.5, 14.0, 33.0, 7.0, 9.0, 14.0, 14.0, 21.0, 5.2, 7.0, 14.0, 14.0, 33.0, 14.0, 7.0, 26.0, 5.1, 14.0, 3.0, 3.0, 7.0, 10.0, 10.0, 6.0, 10.0, 14.0, 14.0, 5.0, 5.0, 5.0, 7.0, 5.2, 5.2, 4.75, 28.0, 7.4, 7.0, 14.0, 7.4, 7.0, 14.0, 9.4, 5.0, 4.0, 5.0, 5.0, 5.2, 8.42, 5.2, 18.0, 2.5, 5.1, 5.2, 6.0, 4.0, 14.0, 5.2, 5.2, 14.0, 6.0, 7.5, 6.4, 2.8, 5.2, 2.8, 6.4, 11.1, 6.5, 10.0, 10.0, 6.4, 7.5, 3.4, 14.0, 11.5, 5.0, 14.0, 14.0, 11.1, 15.5, 11.1, 14.0, 50.0, 2.98, 2.98, 10.0, 3.0, 14.0, 5.1, 27.0, 3.0, 3.0, 5.1, 5.2, 10.0, 1.01, 42.0, 5.2, 1.0, 7.0, 7.0, 4.5, 7.0, 6.1, 7.0, 5.01, 11.0, 5.0, 4.0, 5.2, 7.0, 3.9, 22.0, 22.0, 22.0, 2.6, 7.0, 4.0, 14.0, 5.0, 9.0, 14.0, 14.0, 1.0, 6.0, 6.0, 3.0, 11.0, 6.0, 5.2, 5.2, 7.5, 5.9, 7.0, 4.6, 6.5, 14.0, 5.0, 12.89, 14.0, 6.0, 8.8, 8.0, 5.2, 14.0, 23.0, 14.0, 14.0, 7.0, 5.2, 7.0, 12.5, 14.0, 7.0, 14.0, 14.0, 28.0, 12.0, 14.0, 14.0, 6.0, 5.0, 2.0, 14.0, 5.0, 5.0, 1.0, 9.0, 4.84, 1.0, 6.5, 6.5, 3.0, 5.0, 5.6, 4.3, 5.0, 14.0, 14.0, 5.8, 14.0, 5.2, 5.2, 5.0, 14.0, 4.9, 4.9, 7.0, 11.0, 11.0, 5.2, 10.0, 7.0, 7.0, 4.0, 6.5, 7.0, 14.0, 6.0, 32.0, 24.0, 32.0, 4.8, 6.0, 4.8, 6.0, 3.0, 5.0, 5.8, 6.0, 13.0, 2.0, 0.0, 13.0, 14.0, 24.0, 14.0, 5.0, 7.0, 14.0, 14.0, 1.0, 21.0, 14.0, 4.0, 8.2, 3.0, 5.1, 8.0, 30.0, 8.0, 5.0, 7.0, 4.0, 7.0, 11.1, 6.0, 4.0, 23.0, 5.2, 50.0, 5.0, 14.0, 6.0, 14.0, 7.1, 4.9, 6.4, 10.0, 6.0, 5.2, 5.2, 14.0, 17.0, 7.0, 14.0, 24.0, 7.0, 5.2, 24.0, 3.69, 5.2, 2.0, 5.2, 5.0, 3.6, 18.0, 6.4, 6.0, 5.0, 6.0, 5.0, 7.0, 3.0, 5.2, 3.0, 5.6, 3.9, 5.0, 5.0, 1.0, 5.0, 5.0, 6.0, 6.4, 5.0, 78.0, 24.0, 38.0, 20.0, 4.0, 2.0, 4.0, 3.5, 5.0, 2.5, 14.0, 5.0, 24.0, 5.2, 3.0, 5.1, 5.0, 5.2, 7.0, 5.2, 7.0, 14.0, 14.0, 6.4, 2.0, 7.0, 5.0, 9.0, 14.0, 6.0, 7.0, 5.2, 5.2, 10.5, 10.0, 7.0, 5.84, 6.0, 14.0, 11.0, 3.2, 4.0, 11.0, 3.0, 5.0, 5.0, 5.8, 5.1, 5.1, 7.44, 14.0, 5.0, 1.0, 1.0, 23.0, 7.44, 2.52, 7.44, 0.74, 14.0, 14.0, 4.0, 6.0, 6.0, 7.0, 3.0, 3.0, 5.0, 9.5, 10.0, 10.0, 14.0, 5.1, 5.1, 7.0, 14.0, 4.2, 1.0, 8.9, 15.0, 5.0, 4.0, 5.0, 5.0, 6.55, 6.9, 7.27, 2.55, 1.2, 4.0, 3.0, 5.2, 2.0, 7.0, 7.0, 7.0, 7.0, 5.0, 11.1, 4.9, 5.2, 4.1, 4.9, 14.0, 5.65, 5.65, 5.57, 7.0, 5.2, 5.2, 24.0, 20.0, 20.0, 5.2, 12.5, 14.0, 10.0, 55.0, 5.2, 5.0, 7.0, 14.0, 5.0, 5.0, 4.0, 3.6, 21.0, 3.5, 2.0, 21.0, 4.0, 11.0, 21.0, 7.0, 4.1, 6.0, 6.0, 2.0, 2.0, 2.0, 4.0, 5.0, 5.0, 4.0, 10.0, 5.0, 5.2, 4.0, 2.0, 2.0, 5.0, 4.0, 7.4, 3.0, 13.0, 2.0, 7.0, 5.2, 6.4, 3.0, 2.0, 14.0, 18.0, 6.83, 10.0, 3.0, 5.0, 21.0, 14.0, 28.0, 14.0, 9.0, 5.0, 4.0, 10.0, 14.0, 6.5, 14.0, 5.0, 21.0, 16.0, 7.0, 5.0, 12.0, 28.0, 21.0, 6.0, 10.0, 3.0, 5.0, 5.0, 3.0, 6.0, 7.0, 2.0, 8.0, 17.0, 5.2, 2.0, 5.0, 7.0, 49.0, 5.0, 5.0, 5.0, 5.0, 8.0, 6.0, 7.0, 7.0, 7.0, 14.0, 5.0, 4.0, 5.2, 5.2, 14.0, 10.0, 3.0, 6.0, 28.0, 70.0, 70.0, 7.0, 5.0, 5.2, 14.0, 5.0, 14.0, 7.0, 20.0, 7.0, 5.0, 3.0, 5.0, 5.0, 4.0, 3.0, 4.0, 14.0, 5.0, 3.0, 8.8, 7.0, 3.0, 16.0, 2.0, 8.0, 17.0, 21.0, 16.0, 14.0, 10.0, 5.0, 5.0, 7.0, 21.0, 14.0, 4.0, 6.0, 5.2, 5.2, 14.0, 7.0, 7.0, 7.0, 1.0, 14.0, 12.0, 15.0, 12.0, 5.0, 5.2, 5.2, 15.0, 10.0, 7.0]\n"
     ]
    }
   ],
   "source": [
    "incubation_period = []\n",
    "\n",
    "for sent in sentences_all:\n",
    "    if sent.find('day') > -1:\n",
    "        day = re.findall(\"(\\d{1,2})(\\.\\d{1,2})? day\", sent)\n",
    "        \n",
    "        if len(day) > 0:            \n",
    "            day = day[0]\n",
    "            day_tot = '{}{}'.format(day[0], day[1])\n",
    "            incubation_period.append(float(day_tot))        \n",
    "        \n",
    "print(incubation_period)"
   ]
  },
  {
   "cell_type": "code",
   "execution_count": 449,
   "metadata": {},
   "outputs": [
    {
     "name": "stderr",
     "output_type": "stream",
     "text": [
      "/anaconda3/lib/python3.6/site-packages/scipy/stats/stats.py:1713: FutureWarning: Using a non-tuple sequence for multidimensional indexing is deprecated; use `arr[tuple(seq)]` instead of `arr[seq]`. In the future this will be interpreted as an array index, `arr[np.array(seq)]`, which will result either in an error or a different result.\n",
      "  return np.add.reduce(sorted[indexer] * weights, axis=axis) / sumval\n"
     ]
    },
    {
     "data": {
      "image/png": "[encoded data removed]",
      "text/plain": [
       "<Figure size 1080x720 with 1 Axes>"
      ]
     },
     "metadata": {},
     "output_type": "display_data"
    }
   ],
   "source": [
    "plt.figure(figsize=[15,10])\n",
    "sns.distplot(incubation_period, bins=40, kde_kws={'color': 'blue', 'label': 'KDE Plot'}, hist_kws={'color': 'indianred', 'label': 'Histogram'})\n",
    "plt.xlabel('Incubation Period (days)')\n",
    "plt.title(\"COVID-19 Incubation Period (Histogram)\")\n",
    "plt.show()"
   ]
  },
  {
   "cell_type": "code",
   "execution_count": 450,
   "metadata": {},
   "outputs": [
    {
     "data": {
      "image/png": "[encoded data removed]",
      "text/plain": [
       "<Figure size 864x576 with 1 Axes>"
      ]
     },
     "metadata": {},
     "output_type": "display_data"
    }
   ],
   "source": [
    "plt.figure(figsize=[12,8])\n",
    "sns.violinplot(incubation_period, vert=True, inner='stick')\n",
    "plt.title(\"COVID-19 Incubation Period (Violin Plot)\")\n",
    "plt.xlabel('Incubation Period (days)')\n",
    "plt.show()"
   ]
  },
  {
   "cell_type": "code",
   "execution_count": 451,
   "metadata": {},
   "outputs": [
    {
     "name": "stdout",
     "output_type": "stream",
     "text": [
      "Incubation Period Mean:  9.114382608695653 days\n",
      "Incubation Period Median:  6.1 days\n"
     ]
    }
   ],
   "source": [
    "from statistics import mean, median\n",
    "\n",
    "print('Incubation Period Mean: ', mean(incubation_period), 'days')\n",
    "print('Incubation Period Median: ', median(incubation_period), 'days')"
   ]
  },
  {
   "cell_type": "markdown",
   "metadata": {},
   "source": [
    "## Findings\n",
    "- The mean and median incubation period of the COVID-19 virus are 9.1 days and 6.1 days respectively according to the data used. \n",
    "\n",
    "## Steps for improvement\n",
    "- The method used above to find virus survival on various surface and incubation period data is not perfect. A lot of information was missed, and some information was improperly used in my research. A more advanced technique of sifting through the large dataset will be required for more accurate findings instead of simply using regular experssions. \n"
   ]
  }
 ],
 "metadata": {
  "kernelspec": {
   "display_name": "Python 3",
   "language": "python",
   "name": "python3"
  },
  "language_info": {
   "codemirror_mode": {
    "name": "ipython",
    "version": 3
   },
   "file_extension": ".py",
   "mimetype": "text/x-python",
   "name": "python",
   "nbconvert_exporter": "python",
   "pygments_lexer": "ipython3",
   "version": "3.6.8"
  }
 },
 "nbformat": 4,
 "nbformat_minor": 2
}
